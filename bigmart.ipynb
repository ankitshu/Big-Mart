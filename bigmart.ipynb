{
 "cells": [
  {
   "cell_type": "code",
   "execution_count": 1,
   "metadata": {
    "collapsed": true
   },
   "outputs": [],
   "source": [
    "import pandas as pd\n",
    "import numpy as np\n",
    "import matplotlib.pyplot as plt\n",
    "import seaborn as sns\n",
    "import warnings\n",
    "warnings.filterwarnings('ignore')"
   ]
  },
  {
   "cell_type": "code",
   "execution_count": 2,
   "metadata": {
    "collapsed": true
   },
   "outputs": [],
   "source": [
    "train=pd.read_csv(\"train.csv\")\n",
    "test=pd.read_csv(\"test.csv\")\n"
   ]
  },
  {
   "cell_type": "code",
   "execution_count": 3,
   "metadata": {},
   "outputs": [
    {
     "name": "stdout",
     "output_type": "stream",
     "text": [
      "(8523, 13) (5681, 12) (14204, 13)\n"
     ]
    }
   ],
   "source": [
    "train['source']='train'\n",
    "test['source']='test'\n",
    "data = pd.concat([train, test],ignore_index=True)\n",
    "print (train.shape, test.shape, data.shape)"
   ]
  },
  {
   "cell_type": "code",
   "execution_count": 4,
   "metadata": {},
   "outputs": [
    {
     "name": "stdout",
     "output_type": "stream",
     "text": [
      "Item_Fat_Content                0\n",
      "Item_Identifier                 0\n",
      "Item_MRP                        0\n",
      "Item_Outlet_Sales            5681\n",
      "Item_Type                       0\n",
      "Item_Visibility                 0\n",
      "Item_Weight                  2439\n",
      "Outlet_Establishment_Year       0\n",
      "Outlet_Identifier               0\n",
      "Outlet_Location_Type            0\n",
      "Outlet_Size                  4016\n",
      "Outlet_Type                     0\n",
      "source                          0\n",
      "dtype: int64\n"
     ]
    }
   ],
   "source": [
    "print(data.apply(lambda x:sum(x.isnull()),axis=0))"
   ]
  },
  {
   "cell_type": "code",
   "execution_count": 5,
   "metadata": {},
   "outputs": [
    {
     "name": "stdout",
     "output_type": "stream",
     "text": [
      "           Item_MRP  Item_Outlet_Sales  Item_Visibility   Item_Weight  \\\n",
      "count  14204.000000        8523.000000     14204.000000  11765.000000   \n",
      "mean     141.004977        2181.288914         0.065953     12.792854   \n",
      "std       62.086938        1706.499616         0.051459      4.652502   \n",
      "min       31.290000          33.290000         0.000000      4.555000   \n",
      "25%       94.012000         834.247400         0.027036      8.710000   \n",
      "50%      142.247000        1794.331000         0.054021     12.600000   \n",
      "75%      185.855600        3101.296400         0.094037     16.750000   \n",
      "max      266.888400       13086.964800         0.328391     21.350000   \n",
      "\n",
      "       Outlet_Establishment_Year  \n",
      "count               14204.000000  \n",
      "mean                 1997.830681  \n",
      "std                     8.371664  \n",
      "min                  1985.000000  \n",
      "25%                  1987.000000  \n",
      "50%                  1999.000000  \n",
      "75%                  2004.000000  \n",
      "max                  2009.000000  \n"
     ]
    }
   ],
   "source": [
    "print(data.describe())"
   ]
  },
  {
   "cell_type": "code",
   "execution_count": 6,
   "metadata": {},
   "outputs": [
    {
     "name": "stdout",
     "output_type": "stream",
     "text": [
      "       Item_Fat_Content Item_Identifier              Item_Type  \\\n",
      "count             14204           14204                  14204   \n",
      "unique                5            1559                     16   \n",
      "top             Low Fat           NCC07  Fruits and Vegetables   \n",
      "freq               8485              10                   2013   \n",
      "\n",
      "       Outlet_Identifier Outlet_Location_Type Outlet_Size        Outlet_Type  \\\n",
      "count              14204                14204       10188              14204   \n",
      "unique                10                    3           3                  4   \n",
      "top               OUT027               Tier 3      Medium  Supermarket Type1   \n",
      "freq                1559                 5583        4655               9294   \n",
      "\n",
      "       source  \n",
      "count   14204  \n",
      "unique      2  \n",
      "top     train  \n",
      "freq     8523  \n"
     ]
    }
   ],
   "source": [
    "print(data.describe(include=[object]))"
   ]
  },
  {
   "cell_type": "code",
   "execution_count": 7,
   "metadata": {},
   "outputs": [
    {
     "name": "stdout",
     "output_type": "stream",
     "text": [
      "Item_Fat_Content                 5\n",
      "Item_Identifier               1559\n",
      "Item_MRP                      8052\n",
      "Item_Outlet_Sales             3494\n",
      "Item_Type                       16\n",
      "Item_Visibility              13006\n",
      "Item_Weight                    416\n",
      "Outlet_Establishment_Year        9\n",
      "Outlet_Identifier               10\n",
      "Outlet_Location_Type             3\n",
      "Outlet_Size                      4\n",
      "Outlet_Type                      4\n",
      "source                           2\n",
      "dtype: int64\n"
     ]
    }
   ],
   "source": [
    "print(data.apply(lambda x: len(x.unique())))\n"
   ]
  },
  {
   "cell_type": "code",
   "execution_count": 8,
   "metadata": {
    "scrolled": true
   },
   "outputs": [
    {
     "name": "stdout",
     "output_type": "stream",
     "text": [
      "\n",
      "Frequency of Categories for varible Item_Fat_Content\n",
      "Low Fat    8485\n",
      "Regular    4824\n",
      "LF          522\n",
      "reg         195\n",
      "low fat     178\n",
      "Name: Item_Fat_Content, dtype: int64\n",
      "\n",
      "Frequency of Categories for varible Item_Type\n",
      "Fruits and Vegetables    2013\n",
      "Snack Foods              1989\n",
      "Household                1548\n",
      "Frozen Foods             1426\n",
      "Dairy                    1136\n",
      "Baking Goods             1086\n",
      "Canned                   1084\n",
      "Health and Hygiene        858\n",
      "Meat                      736\n",
      "Soft Drinks               726\n",
      "Breads                    416\n",
      "Hard Drinks               362\n",
      "Others                    280\n",
      "Starchy Foods             269\n",
      "Breakfast                 186\n",
      "Seafood                    89\n",
      "Name: Item_Type, dtype: int64\n",
      "\n",
      "Frequency of Categories for varible Outlet_Location_Type\n",
      "Tier 3    5583\n",
      "Tier 2    4641\n",
      "Tier 1    3980\n",
      "Name: Outlet_Location_Type, dtype: int64\n",
      "\n",
      "Frequency of Categories for varible Outlet_Size\n",
      "Medium    4655\n",
      "Small     3980\n",
      "High      1553\n",
      "Name: Outlet_Size, dtype: int64\n",
      "\n",
      "Frequency of Categories for varible Outlet_Type\n",
      "Supermarket Type1    9294\n",
      "Grocery Store        1805\n",
      "Supermarket Type3    1559\n",
      "Supermarket Type2    1546\n",
      "Name: Outlet_Type, dtype: int64\n"
     ]
    }
   ],
   "source": [
    "#Filter categorical variables\n",
    "categorical_columns = [x for x in data.dtypes.index if data.dtypes[x]=='object']\n",
    "#Exclude ID cols and source:\n",
    "categorical_columns = [x for x in categorical_columns if x not in ['Item_Identifier','Outlet_Identifier','source']]\n",
    "#Print frequency of categories\n",
    "for col in categorical_columns:\n",
    "    print ('\\nFrequency of Categories for varible %s'%col)\n",
    "    print (data[col].value_counts())"
   ]
  },
  {
   "cell_type": "code",
   "execution_count": 9,
   "metadata": {
    "collapsed": true
   },
   "outputs": [],
   "source": [
    "#Determine the average weight per item:\n",
    "impute = data.pivot_table(values='Item_Weight', index=['Item_Identifier','Item_Type'])\n",
    "for i,row in data.loc[data[\"Item_Weight\"].isnull(),:].iterrows():\n",
    "    ind = tuple([row['Item_Identifier'],row['Item_Type']])\n",
    "    data.loc[i,\"Item_Weight\"]=impute.loc[ind].values[0]"
   ]
  },
  {
   "cell_type": "code",
   "execution_count": 10,
   "metadata": {
    "collapsed": true
   },
   "outputs": [],
   "source": [
    "data[\"Item_Visibility\"]=data[\"Item_Visibility\"].replace(0,data[\"Item_Visibility\"].mean(),regex=True)"
   ]
  },
  {
   "cell_type": "code",
   "execution_count": 11,
   "metadata": {},
   "outputs": [
    {
     "data": {
      "text/plain": [
       "Food              10201\n",
       "Non-Consumable     2686\n",
       "Drinks             1317\n",
       "Name: Item_Type_Combined, dtype: int64"
      ]
     },
     "execution_count": 11,
     "metadata": {},
     "output_type": "execute_result"
    }
   ],
   "source": [
    "data['Item_Type_Combined'] = data['Item_Identifier'].apply(lambda x: x[0:2])\n",
    "#Rename them to more intuitive categories:\n",
    "data['Item_Type_Combined'] = data['Item_Type_Combined'].map({'FD':'Food',\n",
    "                                                             'NC':'Non-Consumable',\n",
    "                                                             'DR':'Drinks'})\n",
    "data['Item_Type_Combined'].value_counts()"
   ]
  },
  {
   "cell_type": "code",
   "execution_count": 12,
   "metadata": {},
   "outputs": [
    {
     "name": "stdout",
     "output_type": "stream",
     "text": [
      "Low Fat    9185\n",
      "Regular    5019\n",
      "Name: Item_Fat_Content, dtype: int64\n"
     ]
    },
    {
     "data": {
      "text/plain": [
       "Tier 3    5583\n",
       "Tier 2    4641\n",
       "Tier 1    3980\n",
       "Name: Outlet_Location_Type, dtype: int64"
      ]
     },
     "execution_count": 12,
     "metadata": {},
     "output_type": "execute_result"
    }
   ],
   "source": [
    "data['Item_Fat_Content'] = data['Item_Fat_Content'].replace({'LF':'Low Fat',\n",
    "                                                             'reg':'Regular',\n",
    "                                                             'low fat':'Low Fat'})\n",
    "print(data['Item_Fat_Content'].value_counts())\n",
    "\n",
    "data.loc[data['Item_Type_Combined']==\"Non-Consumable\",'Item_Fat_Content'] = \"Non-Edible\"\n",
    "data['Item_Fat_Content'].value_counts()\n",
    "\n",
    "data[\"Outlet_Location_Type\"].value_counts()\n"
   ]
  },
  {
   "cell_type": "code",
   "execution_count": 13,
   "metadata": {
    "collapsed": true,
    "scrolled": true
   },
   "outputs": [],
   "source": [
    "#Import library:\n",
    "from sklearn.preprocessing import LabelEncoder\n",
    "le = LabelEncoder()\n",
    "#New variable for outlet\n",
    "data['Outlet'] = le.fit_transform(data['Outlet_Identifier'])\n",
    "var_mod = ['Item_Fat_Content','Item_Type_Combined',\"Item_Type\"]\n",
    "le = LabelEncoder()\n",
    "for i in var_mod:\n",
    "    data[i] = le.fit_transform(data[i])"
   ]
  },
  {
   "cell_type": "code",
   "execution_count": 14,
   "metadata": {},
   "outputs": [
    {
     "data": {
      "text/plain": [
       "Supermarket Type1    9294\n",
       "Grocery Store        1805\n",
       "Supermarket Type3    1559\n",
       "Supermarket Type2    1546\n",
       "Name: Outlet_Type, dtype: int64"
      ]
     },
     "execution_count": 14,
     "metadata": {},
     "output_type": "execute_result"
    }
   ],
   "source": [
    "\n",
    "data[\"Outlet_Type\"].value_counts()\n"
   ]
  },
  {
   "cell_type": "code",
   "execution_count": 15,
   "metadata": {
    "collapsed": true
   },
   "outputs": [],
   "source": [
    "data['Outlet_Size'] = data['Outlet_Size'].map({'Medium,': 1, 'Small': 0,\"High\" :3})\n",
    "data['Outlet_Type'] = data['Outlet_Type'].map({'Supermarket Type1': 0, 'Supermarket Type2': 1,\"Supermarket Type3\":2,\"Grocery Store\" :3})\n"
   ]
  },
  {
   "cell_type": "code",
   "execution_count": 16,
   "metadata": {
    "collapsed": true
   },
   "outputs": [],
   "source": [
    "data = pd.get_dummies(data, columns=['Item_Fat_Content','Outlet_Location_Type','Outlet_Size','Outlet_Type',\n",
    "                              'Item_Type_Combined','Outlet'])"
   ]
  },
  {
   "cell_type": "code",
   "execution_count": 17,
   "metadata": {},
   "outputs": [
    {
     "data": {
      "text/plain": [
       "Item_Identifier                 object\n",
       "Item_MRP                       float64\n",
       "Item_Outlet_Sales              float64\n",
       "Item_Type                        int64\n",
       "Item_Visibility                float64\n",
       "Item_Weight                    float64\n",
       "Outlet_Establishment_Year        int64\n",
       "Outlet_Identifier               object\n",
       "source                          object\n",
       "Item_Fat_Content_0               uint8\n",
       "Item_Fat_Content_1               uint8\n",
       "Item_Fat_Content_2               uint8\n",
       "Outlet_Location_Type_Tier 1      uint8\n",
       "Outlet_Location_Type_Tier 2      uint8\n",
       "Outlet_Location_Type_Tier 3      uint8\n",
       "Outlet_Size_0.0                  uint8\n",
       "Outlet_Size_3.0                  uint8\n",
       "Outlet_Type_0                    uint8\n",
       "Outlet_Type_1                    uint8\n",
       "Outlet_Type_2                    uint8\n",
       "Outlet_Type_3                    uint8\n",
       "Item_Type_Combined_0             uint8\n",
       "Item_Type_Combined_1             uint8\n",
       "Item_Type_Combined_2             uint8\n",
       "Outlet_0                         uint8\n",
       "Outlet_1                         uint8\n",
       "Outlet_2                         uint8\n",
       "Outlet_3                         uint8\n",
       "Outlet_4                         uint8\n",
       "Outlet_5                         uint8\n",
       "Outlet_6                         uint8\n",
       "Outlet_7                         uint8\n",
       "Outlet_8                         uint8\n",
       "Outlet_9                         uint8\n",
       "dtype: object"
      ]
     },
     "execution_count": 17,
     "metadata": {},
     "output_type": "execute_result"
    }
   ],
   "source": [
    "data.dtypes"
   ]
  },
  {
   "cell_type": "code",
   "execution_count": 18,
   "metadata": {},
   "outputs": [],
   "source": [
    "data.drop(['Item_Type','Outlet_Establishment_Year'],axis=1,inplace=True)\n",
    "\n",
    "#Divide into test and train:\n",
    "train = data.loc[data['source']==\"train\"]\n",
    "test = data.loc[data['source']==\"test\"]\n",
    "\n",
    "#Drop unnecessary columns:\n",
    "test.drop(['Item_Outlet_Sales','source'],axis=1,inplace=True)\n",
    "train.drop(['source'],axis=1,inplace=True)\n",
    "\n",
    "#Export files as modified versions:\n",
    "train.to_csv(\"train_modified.csv\",index=False)\n",
    "test.to_csv(\"test_modified.csv\",index=False)"
   ]
  },
  {
   "cell_type": "code",
   "execution_count": 19,
   "metadata": {},
   "outputs": [
    {
     "name": "stderr",
     "output_type": "stream",
     "text": [
      "/usr/local/lib/python3.4/dist-packages/sklearn/cross_validation.py:41: DeprecationWarning: This module was deprecated in version 0.18 in favor of the model_selection module into which all the refactored classes and functions are moved. Also note that the interface of the new CV iterators are different from that of this module. This module will be removed in 0.20.\n",
      "  \"This module will be removed in 0.20.\", DeprecationWarning)\n"
     ]
    }
   ],
   "source": [
    "#Define target and ID columns:\n",
    "target = 'Item_Outlet_Sales'\n",
    "IDcol = ['Item_Identifier','Outlet_Identifier']\n",
    "from sklearn import cross_validation, metrics\n",
    "def modelfit(alg, dtrain, dtest, predictors, target, IDcol, filename):\n",
    "    #Fit the algorithm on the data\n",
    "    alg.fit(dtrain[predictors], dtrain[target])\n",
    "        \n",
    "    #Predict training set:\n",
    "    dtrain_predictions = alg.predict(dtrain[predictors])\n",
    "\n",
    "    #Perform cross-validation:\n",
    "    cv_score = cross_validation.cross_val_score(alg, dtrain[predictors], dtrain[target], cv=20, scoring='mean_squared_error')\n",
    "    cv_score = np.sqrt(np.abs(cv_score))\n",
    "    \n",
    "    #Print model report:\n",
    "    print (\"\\nModel Report\")\n",
    "    print (\"RMSE : %.4g\" % np.sqrt(metrics.mean_squared_error(dtrain[target].values, dtrain_predictions)))\n",
    "    print (\"CV Score : Mean - %.4g | Std - %.4g | Min - %.4g | Max - %.4g\" % (np.mean(cv_score),np.std(cv_score),np.min(cv_score),np.max(cv_score)))\n",
    "    \n",
    "    #Predict on testing data:\n",
    "    dtest[target] = alg.predict(dtest[predictors])\n",
    "    \n",
    "    #Export submission file:\n",
    "    IDcol.append(target)\n",
    "    submission = pd.DataFrame({ x: dtest[x] for x in IDcol})\n",
    "    submission.to_csv(filename, index=False)"
   ]
  },
  {
   "cell_type": "code",
   "execution_count": 25,
   "metadata": {},
   "outputs": [
    {
     "name": "stdout",
     "output_type": "stream",
     "text": [
      "['Item_MRP', 'Item_Visibility', 'Item_Weight', 'Item_Fat_Content_0', 'Item_Fat_Content_1', 'Item_Fat_Content_2', 'Outlet_Location_Type_Tier 1', 'Outlet_Location_Type_Tier 2', 'Outlet_Location_Type_Tier 3', 'Outlet_Size_0.0', 'Outlet_Size_3.0', 'Outlet_Type_0', 'Outlet_Type_1', 'Outlet_Type_2', 'Outlet_Type_3', 'Item_Type_Combined_0', 'Item_Type_Combined_1', 'Item_Type_Combined_2', 'Outlet_0', 'Outlet_1', 'Outlet_2', 'Outlet_3', 'Outlet_4', 'Outlet_5', 'Outlet_6', 'Outlet_7', 'Outlet_8', 'Outlet_9']\n",
      "\n",
      "Model Report\n",
      "RMSE : 1127\n",
      "CV Score : Mean - 1129 | Std - 43.47 | Min - 1075 | Max - 1210\n"
     ]
    },
    {
     "data": {
      "image/png": "[encoded data removed]",
      "text/plain": [
       "<matplotlib.figure.Figure at 0x7f30ea754ac8>"
      ]
     },
     "metadata": {},
     "output_type": "display_data"
    }
   ],
   "source": [
    "import warnings\n",
    "warnings.filterwarnings('ignore')\n",
    "from sklearn.linear_model import LinearRegression, Ridge, Lasso\n",
    "predictors = [x for x in train.columns if x not in [target]+IDcol]\n",
    "# print predictors\n",
    "alg1 = LinearRegression(normalize=True)\n",
    "modelfit(alg1, train, test, predictors, target, IDcol, 'alg1.csv')\n",
    "coef1 = pd.Series(alg1.coef_, predictors).sort_values()\n",
    "coef1.plot(kind='bar', title='Model Coefficients')\n",
    "plt.show()"
   ]
  },
  {
   "cell_type": "code",
   "execution_count": 21,
   "metadata": {},
   "outputs": [
    {
     "name": "stdout",
     "output_type": "stream",
     "text": [
      "\n",
      "Model Report\n",
      "RMSE : 1129\n",
      "CV Score : Mean - 1130 | Std - 44.75 | Min - 1076 | Max - 1217\n"
     ]
    },
    {
     "data": {
      "image/png": "[encoded data removed]",
      "text/plain": [
       "<matplotlib.figure.Figure at 0x7f30ea6c7438>"
      ]
     },
     "metadata": {},
     "output_type": "display_data"
    }
   ],
   "source": [
    "predictors = [x for x in train.columns if x not in [target]+IDcol]\n",
    "alg2 = Ridge(alpha=0.05,normalize=True)\n",
    "modelfit(alg2, train, test, predictors, target, IDcol, 'alg2.csv')\n",
    "coef2 = pd.Series(alg2.coef_, predictors).sort_values()\n",
    "coef2.plot(kind='bar', title='Model Coefficients')\n",
    "plt.show()"
   ]
  },
  {
   "cell_type": "code",
   "execution_count": 22,
   "metadata": {},
   "outputs": [
    {
     "name": "stdout",
     "output_type": "stream",
     "text": [
      "\n",
      "Model Report\n",
      "RMSE : 1060\n",
      "CV Score : Mean - 1090 | Std - 43.47 | Min - 1014 | Max - 1177\n"
     ]
    },
    {
     "data": {
      "image/png": "[encoded data removed]",
      "text/plain": [
       "<matplotlib.figure.Figure at 0x7f30ea73ca58>"
      ]
     },
     "metadata": {},
     "output_type": "display_data"
    }
   ],
   "source": [
    "from sklearn.tree import DecisionTreeRegressor\n",
    "predictors = [x for x in train.columns if x not in [target]+IDcol]\n",
    "alg3 = DecisionTreeRegressor(max_depth=15, min_samples_leaf=100)\n",
    "modelfit(alg3, train, test, predictors, target, IDcol, 'alg3.csv')\n",
    "coef3 = pd.Series(alg3.feature_importances_, predictors).sort_values(ascending=False)\n",
    "coef3.plot(kind='bar', title='Feature Importances')\n",
    "plt.show()"
   ]
  },
  {
   "cell_type": "code",
   "execution_count": 23,
   "metadata": {},
   "outputs": [
    {
     "name": "stdout",
     "output_type": "stream",
     "text": [
      "\n",
      "Model Report\n",
      "RMSE : 1154\n",
      "CV Score : Mean - 1174 | Std - 42.79 | Min - 1108 | Max - 1252\n"
     ]
    },
    {
     "data": {
      "image/png": "[encoded data removed]",
      "text/plain": [
       "<matplotlib.figure.Figure at 0x7f30ed94b3c8>"
      ]
     },
     "metadata": {},
     "output_type": "display_data"
    }
   ],
   "source": [
    "predictors = ['Item_MRP','Outlet_Type_0','Outlet_5']\n",
    "alg4 = DecisionTreeRegressor(max_depth=8, min_samples_leaf=150)\n",
    "modelfit(alg4, train, test, predictors, target, IDcol, 'alg4.csv')\n",
    "coef4 = pd.Series(alg4.feature_importances_, predictors).sort_values(ascending=False)\n",
    "coef4.plot(kind='bar', title='Feature Importances')\n",
    "plt.show()"
   ]
  },
  {
   "cell_type": "code",
   "execution_count": 24,
   "metadata": {
    "scrolled": true
   },
   "outputs": [
    {
     "name": "stdout",
     "output_type": "stream",
     "text": [
      "\n",
      "Model Report\n",
      "RMSE : 1074\n",
      "CV Score : Mean - 1084 | Std - 43.58 | Min - 1021 | Max - 1162\n"
     ]
    },
    {
     "data": {
      "image/png": "[encoded data removed]",
      "text/plain": [
       "<matplotlib.figure.Figure at 0x7f30ea73ee80>"
      ]
     },
     "metadata": {},
     "output_type": "display_data"
    }
   ],
   "source": [
    "from sklearn.ensemble import RandomForestRegressor\n",
    "predictors = [x for x in train.columns if x not in [target]+IDcol]\n",
    "alg5 = RandomForestRegressor(n_estimators=200,max_depth=5, min_samples_leaf=100,n_jobs=4)\n",
    "modelfit(alg5, train, test, predictors, target, IDcol, 'alg5.csv')\n",
    "coef5 = pd.Series(alg5.feature_importances_, predictors).sort_values(ascending=False)\n",
    "coef5.plot(kind='bar', title='Feature Importances')\n",
    "plt.show()"
   ]
  },
  {
   "cell_type": "code",
   "execution_count": 28,
   "metadata": {},
   "outputs": [
    {
     "name": "stdout",
     "output_type": "stream",
     "text": [
      "                             Item_MRP  Item_Outlet_Sales  Item_Visibility  \\\n",
      "Item_MRP                     1.000000           0.567574        -0.005248   \n",
      "Item_Outlet_Sales            0.567574           1.000000        -0.134141   \n",
      "Item_Visibility             -0.005248          -0.134141         1.000000   \n",
      "Item_Weight                  0.026172           0.013261        -0.017943   \n",
      "Item_Fat_Content_0          -0.009619          -0.009438         0.007005   \n",
      "Item_Fat_Content_1           0.004859          -0.010861        -0.070033   \n",
      "Item_Fat_Content_2           0.006063           0.018719         0.049914   \n",
      "Outlet_Location_Type_Tier 1 -0.001229          -0.111287         0.063746   \n",
      "Outlet_Location_Type_Tier 2  0.001951           0.058261        -0.073790   \n",
      "Outlet_Location_Type_Tier 3 -0.000744           0.046376         0.012248   \n",
      "Outlet_Size_0.0              0.009793          -0.098403         0.066381   \n",
      "Outlet_Size_3.0              0.002438           0.024170        -0.043640   \n",
      "Outlet_Type_0                0.004885           0.108765        -0.153429   \n",
      "Outlet_Type_1                0.003850          -0.038059        -0.032763   \n",
      "Outlet_Type_2               -0.006714           0.311192        -0.052974   \n",
      "Outlet_Type_3               -0.004277          -0.411727         0.299441   \n",
      "Item_Type_Combined_0        -0.051733          -0.034672        -0.010925   \n",
      "Item_Type_Combined_1         0.029315           0.031905         0.067885   \n",
      "Item_Type_Combined_2         0.004859          -0.010861        -0.070033   \n",
      "Outlet_0                    -0.000912          -0.284883         0.187903   \n",
      "Outlet_1                     0.002438           0.024170        -0.043640   \n",
      "Outlet_2                    -0.008812           0.032610        -0.034140   \n",
      "Outlet_3                     0.003850          -0.038059        -0.032763   \n",
      "Outlet_4                    -0.004976          -0.277250         0.221378   \n",
      "Outlet_5                    -0.006714           0.311192        -0.052974   \n",
      "Outlet_6                     0.011969           0.052823        -0.036689   \n",
      "Outlet_7                    -0.000239           0.002274        -0.040260   \n",
      "Outlet_8                     0.005983           0.019803        -0.038861   \n",
      "Outlet_9                    -0.003906           0.034264        -0.040485   \n",
      "\n",
      "                             Item_Weight  Item_Fat_Content_0  \\\n",
      "Item_MRP                        0.026172           -0.009619   \n",
      "Item_Outlet_Sales               0.013261           -0.009438   \n",
      "Item_Visibility                -0.017943            0.007005   \n",
      "Item_Weight                     1.000000           -0.018164   \n",
      "Item_Fat_Content_0             -0.018164            1.000000   \n",
      "Item_Fat_Content_1              0.056435           -0.443265   \n",
      "Item_Fat_Content_2             -0.027166           -0.680864   \n",
      "Outlet_Location_Type_Tier 1     0.005572           -0.000921   \n",
      "Outlet_Location_Type_Tier 2    -0.015745            0.007400   \n",
      "Outlet_Location_Type_Tier 3     0.009997           -0.006259   \n",
      "Outlet_Size_0.0                 0.000964            0.002224   \n",
      "Outlet_Size_3.0                 0.009996           -0.001839   \n",
      "Outlet_Type_0                  -0.007142            0.003103   \n",
      "Outlet_Type_1                  -0.000021           -0.001209   \n",
      "Outlet_Type_2                   0.003890            0.000891   \n",
      "Outlet_Type_3                   0.006568           -0.004137   \n",
      "Item_Type_Combined_0           -0.052726            0.291339   \n",
      "Item_Type_Combined_1           -0.014820            0.195997   \n",
      "Item_Type_Combined_2            0.056435           -0.443265   \n",
      "Outlet_0                        0.002246           -0.009668   \n",
      "Outlet_1                        0.009996           -0.001839   \n",
      "Outlet_2                       -0.003529           -0.002784   \n",
      "Outlet_3                       -0.000021           -0.001209   \n",
      "Outlet_4                        0.006775            0.004180   \n",
      "Outlet_5                        0.003890            0.000891   \n",
      "Outlet_6                       -0.003335            0.007914   \n",
      "Outlet_7                       -0.016837            0.005999   \n",
      "Outlet_8                       -0.000514           -0.007942   \n",
      "Outlet_9                        0.003301            0.003384   \n",
      "\n",
      "                             Item_Fat_Content_1  Item_Fat_Content_2  \\\n",
      "Item_MRP                               0.004859            0.006063   \n",
      "Item_Outlet_Sales                     -0.010861            0.018719   \n",
      "Item_Visibility                       -0.070033            0.049914   \n",
      "Item_Weight                            0.056435           -0.027166   \n",
      "Item_Fat_Content_0                    -0.443265           -0.680864   \n",
      "Item_Fat_Content_1                     1.000000           -0.354722   \n",
      "Item_Fat_Content_2                    -0.354722            1.000000   \n",
      "Outlet_Location_Type_Tier 1           -0.002685            0.003155   \n",
      "Outlet_Location_Type_Tier 2           -0.005443           -0.003272   \n",
      "Outlet_Location_Type_Tier 3            0.007695            0.000241   \n",
      "Outlet_Size_0.0                       -0.000008           -0.002313   \n",
      "Outlet_Size_3.0                        0.004957           -0.002132   \n",
      "Outlet_Type_0                         -0.004614            0.000533   \n",
      "Outlet_Type_1                         -0.001063            0.002129   \n",
      "Outlet_Type_2                         -0.001361            0.000183   \n",
      "Outlet_Type_3                          0.008860           -0.002924   \n",
      "Item_Type_Combined_0                  -0.154560           -0.177593   \n",
      "Item_Type_Combined_1                  -0.768023            0.423092   \n",
      "Item_Type_Combined_2                   1.000000           -0.354722   \n",
      "Outlet_0                               0.012030            0.000254   \n",
      "Outlet_1                               0.004957           -0.002132   \n",
      "Outlet_2                              -0.001668            0.004266   \n",
      "Outlet_3                              -0.001063            0.002129   \n",
      "Outlet_4                              -0.000072           -0.004300   \n",
      "Outlet_5                              -0.001361            0.000183   \n",
      "Outlet_6                              -0.006244           -0.003154   \n",
      "Outlet_7                              -0.000279           -0.006029   \n",
      "Outlet_8                               0.006287            0.003147   \n",
      "Outlet_9                              -0.010099            0.004722   \n",
      "\n",
      "                             Outlet_Location_Type_Tier 1  \\\n",
      "Item_MRP                                       -0.001229   \n",
      "Item_Outlet_Sales                              -0.111287   \n",
      "Item_Visibility                                 0.063746   \n",
      "Item_Weight                                     0.005572   \n",
      "Item_Fat_Content_0                             -0.000921   \n",
      "Item_Fat_Content_1                             -0.002685   \n",
      "Item_Fat_Content_2                              0.003155   \n",
      "Outlet_Location_Type_Tier 1                     1.000000   \n",
      "Outlet_Location_Type_Tier 2                    -0.434653   \n",
      "Outlet_Location_Type_Tier 3                    -0.502066   \n",
      "Outlet_Size_0.0                                 0.458964   \n",
      "Outlet_Size_3.0                                -0.218609   \n",
      "Outlet_Type_0                                   0.163388   \n",
      "Outlet_Type_1                                  -0.218082   \n",
      "Outlet_Type_2                                  -0.219004   \n",
      "Outlet_Type_3                                   0.176158   \n",
      "Item_Type_Combined_0                            0.001016   \n",
      "Item_Type_Combined_1                            0.001673   \n",
      "Item_Type_Combined_2                           -0.002685   \n",
      "Outlet_0                                       -0.164658   \n",
      "Outlet_1                                       -0.218609   \n",
      "Outlet_2                                       -0.217818   \n",
      "Outlet_3                                       -0.218082   \n",
      "Outlet_4                                        0.411906   \n",
      "Outlet_5                                       -0.219004   \n",
      "Outlet_6                                       -0.218346   \n",
      "Outlet_7                                       -0.218214   \n",
      "Outlet_8                                        0.560951   \n",
      "Outlet_9                                        0.560951   \n",
      "\n",
      "                             Outlet_Location_Type_Tier 2  \\\n",
      "Item_MRP                                        0.001951   \n",
      "Item_Outlet_Sales                               0.058261   \n",
      "Item_Visibility                                -0.073790   \n",
      "Item_Weight                                    -0.015745   \n",
      "Item_Fat_Content_0                              0.007400   \n",
      "Item_Fat_Content_1                             -0.005443   \n",
      "Item_Fat_Content_2                             -0.003272   \n",
      "Outlet_Location_Type_Tier 1                    -0.434653   \n",
      "Outlet_Location_Type_Tier 2                     1.000000   \n",
      "Outlet_Location_Type_Tier 3                    -0.560639   \n",
      "Outlet_Size_0.0                                 0.083381   \n",
      "Outlet_Size_3.0                                -0.244113   \n",
      "Outlet_Type_0                                   0.506347   \n",
      "Outlet_Type_1                                  -0.243524   \n",
      "Outlet_Type_2                                  -0.244554   \n",
      "Outlet_Type_3                                  -0.265803   \n",
      "Item_Type_Combined_0                            0.007652   \n",
      "Item_Type_Combined_1                           -0.000235   \n",
      "Item_Type_Combined_2                           -0.005443   \n",
      "Outlet_0                                       -0.183867   \n",
      "Outlet_1                                       -0.244113   \n",
      "Outlet_2                                        0.501132   \n",
      "Outlet_3                                       -0.243524   \n",
      "Outlet_4                                       -0.179036   \n",
      "Outlet_5                                       -0.244554   \n",
      "Outlet_6                                        0.502345   \n",
      "Outlet_7                                        0.502042   \n",
      "Outlet_8                                       -0.243819   \n",
      "Outlet_9                                       -0.243819   \n",
      "\n",
      "                             Outlet_Location_Type_Tier 3    ...     Outlet_0  \\\n",
      "Item_MRP                                       -0.000744    ...    -0.000912   \n",
      "Item_Outlet_Sales                               0.046376    ...    -0.284883   \n",
      "Item_Visibility                                 0.012248    ...     0.187903   \n",
      "Item_Weight                                     0.009997    ...     0.002246   \n",
      "Item_Fat_Content_0                             -0.006259    ...    -0.009668   \n",
      "Item_Fat_Content_1                              0.007695    ...     0.012030   \n",
      "Item_Fat_Content_2                              0.000241    ...     0.000254   \n",
      "Outlet_Location_Type_Tier 1                    -0.502066    ...    -0.164658   \n",
      "Outlet_Location_Type_Tier 2                    -0.560639    ...    -0.183867   \n",
      "Outlet_Location_Type_Tier 3                     1.000000    ...     0.327960   \n",
      "Outlet_Size_0.0                                -0.502066    ...    -0.164658   \n",
      "Outlet_Size_3.0                                 0.435419    ...    -0.092476   \n",
      "Outlet_Type_0                                  -0.636465    ...    -0.363125   \n",
      "Outlet_Type_1                                   0.434369    ...    -0.092253   \n",
      "Outlet_Type_2                                   0.436205    ...    -0.092643   \n",
      "Outlet_Type_3                                   0.093276    ...     0.691742   \n",
      "Item_Type_Combined_0                           -0.008283    ...     0.003215   \n",
      "Item_Type_Combined_1                           -0.001312    ...    -0.012529   \n",
      "Item_Type_Combined_2                            0.007695    ...     0.012030   \n",
      "Outlet_0                                        0.327960    ...     1.000000   \n",
      "Outlet_1                                        0.435419    ...    -0.092476   \n",
      "Outlet_2                                       -0.280954    ...    -0.092142   \n",
      "Outlet_3                                        0.434369    ...    -0.092253   \n",
      "Outlet_4                                       -0.206804    ...    -0.067823   \n",
      "Outlet_5                                        0.436205    ...    -0.092643   \n",
      "Outlet_6                                       -0.281635    ...    -0.092365   \n",
      "Outlet_7                                       -0.281465    ...    -0.092309   \n",
      "Outlet_8                                       -0.281635    ...    -0.092365   \n",
      "Outlet_9                                       -0.281635    ...    -0.092365   \n",
      "\n",
      "                             Outlet_1  Outlet_2  Outlet_3  Outlet_4  Outlet_5  \\\n",
      "Item_MRP                     0.002438 -0.008812  0.003850 -0.004976 -0.006714   \n",
      "Item_Outlet_Sales            0.024170  0.032610 -0.038059 -0.277250  0.311192   \n",
      "Item_Visibility             -0.043640 -0.034140 -0.032763  0.221378 -0.052974   \n",
      "Item_Weight                  0.009996 -0.003529 -0.000021  0.006775  0.003890   \n",
      "Item_Fat_Content_0          -0.001839 -0.002784 -0.001209  0.004180  0.000891   \n",
      "Item_Fat_Content_1           0.004957 -0.001668 -0.001063 -0.000072 -0.001361   \n",
      "Item_Fat_Content_2          -0.002132  0.004266  0.002129 -0.004300  0.000183   \n",
      "Outlet_Location_Type_Tier 1 -0.218609 -0.217818 -0.218082  0.411906 -0.219004   \n",
      "Outlet_Location_Type_Tier 2 -0.244113  0.501132 -0.243524 -0.179036 -0.244554   \n",
      "Outlet_Location_Type_Tier 3  0.435419 -0.280954  0.434369 -0.206804  0.436205   \n",
      "Outlet_Size_0.0             -0.218609 -0.217818 -0.218082  0.411906 -0.219004   \n",
      "Outlet_Size_3.0              1.000000 -0.122333 -0.122481 -0.090046 -0.122999   \n",
      "Outlet_Type_0                0.254668  0.253747 -0.480943 -0.353583 -0.482977   \n",
      "Outlet_Type_1               -0.122481 -0.122038  1.000000 -0.089829 -0.122702   \n",
      "Outlet_Type_2               -0.122999 -0.122554 -0.122702 -0.090209  1.000000   \n",
      "Outlet_Type_3               -0.133686 -0.133202 -0.133364  0.673566 -0.133928   \n",
      "Item_Type_Combined_0        -0.000479  0.002834 -0.003872 -0.007511 -0.011145   \n",
      "Item_Type_Combined_1        -0.003993 -0.000389  0.003433  0.004932  0.008406   \n",
      "Item_Type_Combined_2         0.004957 -0.001668 -0.001063 -0.000072 -0.001361   \n",
      "Outlet_0                    -0.092476 -0.092142 -0.092253 -0.067823 -0.092643   \n",
      "Outlet_1                     1.000000 -0.122333 -0.122481 -0.090046 -0.122999   \n",
      "Outlet_2                    -0.122333  1.000000 -0.122038 -0.089721 -0.122554   \n",
      "Outlet_3                    -0.122481 -0.122038  1.000000 -0.089829 -0.122702   \n",
      "Outlet_4                    -0.090046 -0.089721 -0.089829  1.000000 -0.090209   \n",
      "Outlet_5                    -0.122999 -0.122554 -0.122702 -0.090209  1.000000   \n",
      "Outlet_6                    -0.122629 -0.122185 -0.122333 -0.089938 -0.122850   \n",
      "Outlet_7                    -0.122555 -0.122112 -0.122260 -0.089884 -0.122776   \n",
      "Outlet_8                    -0.122629 -0.122185 -0.122333 -0.089938 -0.122850   \n",
      "Outlet_9                    -0.122629 -0.122185 -0.122333 -0.089938 -0.122850   \n",
      "\n",
      "                             Outlet_6  Outlet_7  Outlet_8  Outlet_9  \n",
      "Item_MRP                     0.011969 -0.000239  0.005983 -0.003906  \n",
      "Item_Outlet_Sales            0.052823  0.002274  0.019803  0.034264  \n",
      "Item_Visibility             -0.036689 -0.040260 -0.038861 -0.040485  \n",
      "Item_Weight                 -0.003335 -0.016837 -0.000514  0.003301  \n",
      "Item_Fat_Content_0           0.007914  0.005999 -0.007942  0.003384  \n",
      "Item_Fat_Content_1          -0.006244 -0.000279  0.006287 -0.010099  \n",
      "Item_Fat_Content_2          -0.003154 -0.006029  0.003147  0.004722  \n",
      "Outlet_Location_Type_Tier 1 -0.218346 -0.218214  0.560951  0.560951  \n",
      "Outlet_Location_Type_Tier 2  0.502345  0.502042 -0.243819 -0.243819  \n",
      "Outlet_Location_Type_Tier 3 -0.281635 -0.281465 -0.281635 -0.281635  \n",
      "Outlet_Size_0.0              0.560951 -0.218214  0.560951 -0.218346  \n",
      "Outlet_Size_3.0             -0.122629 -0.122555 -0.122629 -0.122629  \n",
      "Outlet_Type_0                0.254361  0.254208  0.254361  0.254361  \n",
      "Outlet_Type_1               -0.122333 -0.122260 -0.122333 -0.122333  \n",
      "Outlet_Type_2               -0.122850 -0.122776 -0.122850 -0.122850  \n",
      "Outlet_Type_3               -0.133525 -0.133444 -0.133525 -0.133525  \n",
      "Item_Type_Combined_0         0.001053  0.007633 -0.000238  0.007509  \n",
      "Item_Type_Combined_1         0.004738 -0.004705 -0.005305  0.003901  \n",
      "Item_Type_Combined_2        -0.006244 -0.000279  0.006287 -0.010099  \n",
      "Outlet_0                    -0.092365 -0.092309 -0.092365 -0.092365  \n",
      "Outlet_1                    -0.122629 -0.122555 -0.122629 -0.122629  \n",
      "Outlet_2                    -0.122185 -0.122112 -0.122185 -0.122185  \n",
      "Outlet_3                    -0.122333 -0.122260 -0.122333 -0.122333  \n",
      "Outlet_4                    -0.089938 -0.089884 -0.089938 -0.089938  \n",
      "Outlet_5                    -0.122850 -0.122776 -0.122850 -0.122850  \n",
      "Outlet_6                     1.000000 -0.122407 -0.122481 -0.122481  \n",
      "Outlet_7                    -0.122407  1.000000 -0.122407 -0.122407  \n",
      "Outlet_8                    -0.122481 -0.122407  1.000000 -0.122481  \n",
      "Outlet_9                    -0.122481 -0.122407 -0.122481  1.000000  \n",
      "\n",
      "[29 rows x 29 columns]\n"
     ]
    }
   ],
   "source": [
    "corr=train.corr()\n",
    "print(corr)"
   ]
  },
  {
   "cell_type": "code",
   "execution_count": null,
   "metadata": {
    "collapsed": true
   },
   "outputs": [],
   "source": []
  }
 ],
 "metadata": {
  "kernelspec": {
   "display_name": "Python 3",
   "language": "python",
   "name": "python3"
  },
  "language_info": {
   "codemirror_mode": {
    "name": "ipython",
    "version": 3
   },
   "file_extension": ".py",
   "mimetype": "text/x-python",
   "name": "python",
   "nbconvert_exporter": "python",
   "pygments_lexer": "ipython3",
   "version": "3.4.3"
  }
 },
 "nbformat": 4,
 "nbformat_minor": 2
}
